{
 "cells": [
  {
   "cell_type": "code",
   "id": "initial_id",
   "metadata": {
    "collapsed": true,
    "ExecuteTime": {
     "end_time": "2024-10-12T23:15:48.284533Z",
     "start_time": "2024-10-12T23:15:48.279013Z"
    }
   },
   "source": [
    "import pandas as pd\n",
    "#import hockey_rink as hr\n",
    "import matplotlib.pyplot as plt\n",
    "import seaborn as sns\n",
    "import numpy as np\n",
    "import math\n",
    "\n"
   ],
   "outputs": [],
   "execution_count": 14
  },
  {
   "metadata": {
    "ExecuteTime": {
     "end_time": "2024-10-12T23:16:34.785989Z",
     "start_time": "2024-10-12T23:16:34.733144Z"
    }
   },
   "cell_type": "code",
   "source": [
    "# read in the data\n",
    "df = pd.read_csv('../data/events.csv')\n"
   ],
   "id": "4cf265bd9dba9c5d",
   "outputs": [],
   "execution_count": 20
  },
  {
   "metadata": {
    "ExecuteTime": {
     "end_time": "2024-10-12T23:15:51.735149Z",
     "start_time": "2024-10-12T23:15:51.708928Z"
    }
   },
   "cell_type": "code",
   "source": [
    "# each row has a column EventStartCoordinate and EventEndCoordinate which if applicable, contains the x and y coordinates of the event.\n",
    "# these columns need to be split into two columns, one for x and one for y\n",
    "df[['EventStartX', 'EventStartY']] = df['EventStartCoordinate'].str.split(',', expand=True)\n",
    "df[['EventEndX', 'EventEndY']] = df['EventEndCoordinate'].str.split(',', expand=True)\n",
    "# convert the columns to numeric\n",
    "df['EventStartX'] = pd.to_numeric(df['EventStartX'])\n",
    "df['EventStartY'] = pd.to_numeric(df['EventStartY'])\n",
    "df['EventEndX'] = pd.to_numeric(df['EventEndX'])\n",
    "df['EventEndY'] = pd.to_numeric(df['EventEndY'])\n",
    "\n",
    "df"
   ],
   "id": "97fbc00ecc530a6a",
   "outputs": [],
   "execution_count": 16
  },
  {
   "metadata": {
    "ExecuteTime": {
     "end_time": "2024-10-12T23:15:55.614024Z",
     "start_time": "2024-10-12T23:15:55.597047Z"
    }
   },
   "cell_type": "code",
   "source": "",
   "id": "5dd7ad6fd2405f96",
   "outputs": [],
   "execution_count": 17
  },
  {
   "metadata": {
    "ExecuteTime": {
     "end_time": "2024-10-12T23:15:56.908587Z",
     "start_time": "2024-10-12T23:15:56.901994Z"
    }
   },
   "cell_type": "code",
   "source": [
    "# Functions\n",
    "\n",
    "# Euclidean distance between two points\n",
    "def distance(point1, point2):\n",
    "    return math.sqrt((point1[0] - point2[0]) ** 2 + (point1[1] - point2[1]) ** 2)"
   ],
   "id": "3df29057113ba4bf",
   "outputs": [],
   "execution_count": 18
  },
  {
   "metadata": {
    "ExecuteTime": {
     "end_time": "2024-10-12T23:15:57.816921Z",
     "start_time": "2024-10-12T23:15:57.782079Z"
    }
   },
   "cell_type": "code",
   "source": [
    "# just taking the event with type shot or pass\n",
    "dfshot_goal = df[(df['EventType'] == 'Shot') | (df['EventType'] == 'Pass')]\n",
    "\n",
    "for index, event in dfshot_goal.head().iterrows():\n",
    "    \n",
    "    #print(f\"Index: {index}\")\n",
    "    #print(f\"Name: {event['EventType']}\")\n",
    "    \n",
    "    \n",
    "    \n",
    "\n",
    "    # Function to calculate the Euclidean distance between two points\n",
    "    def distance(point1, point2):\n",
    "        return math.sqrt((point1[0] - point2[0]) ** 2 + (point1[1] - point2[1]) ** 2)\n",
    "    \n",
    "    playerNumbers = []\n",
    "\n",
    "    primary_player_id = event['EventPrimaryPlayerId']\n",
    "    \n",
    "    # skip nan values\n",
    "    if len(df.columns[event == primary_player_id].drop('EventPrimaryPlayerId')) == 0:\n",
    "        continue\n",
    "    else:\n",
    "        primary_player_number = df.columns[event == primary_player_id].drop('EventPrimaryPlayerId')[0][13]\n",
    "    \n",
    "    goal_coords = [85,]\n",
    "    \n",
    "    if event['EventPrimaryTeam'] == \"Home\":\n",
    "        primary_player_team = \"Home\"\n",
    "        opponent_team = \"Away\"\n",
    "    elif event['EventPrimaryTeam'] == \"Away\":\n",
    "        primary_player_team = \"Away\"\n",
    "        opponent_team = \"Home\"\n",
    "    else:\n",
    "        print(\"Error: The team is neither home nor away.\")\n",
    "    \n",
    "    distances_to_opponents = []\n",
    "    for i in range(1, 12):\n",
    "\n",
    "        coords_primary = event[f'StartPlayerCoordinates{primary_player_number}'].split(',')\n",
    "        float_coords_primary = [float(coord) for coord in coords_primary]\n",
    "        \n",
    "        #print(event[f'StartPlayerTeam{i}'])\n",
    "        if event[f'StartPlayerTeam{i}'] == opponent_team: \n",
    "            \n",
    "            primary_player_id = event['EventPrimaryPlayerId']\n",
    "            \n",
    "            #print(df.columns[event == primary_player_id])\n",
    "           \n",
    "            coords_player_cur = event[f'StartPlayerCoordinates{i}'].split(',')\n",
    "            float_coords_player_cur = [float(coord) for coord in coords_player_cur]\n",
    "            distances_to_opponents.append(distance(float_coords_primary, float_coords_player_cur))\n",
    "\n",
    "    mean_distance = sum(distances_to_opponents)/len(distances_to_opponents)\n",
    "    \n",
    "    print(\"This is the mean distance of all opponents players to the primary player: \" + str(mean_distance))\n",
    "    \n",
    "    \n",
    "    distance_to_goal = 0.0\n",
    "    \n",
    "    # determine which goal is correct one\n",
    "\n",
    "    print(event)\n",
    "    if float(event['EventStartX']) > 0:\n",
    "        distance_to_goal = distance([26.0,0.0], float_coords_player_cur)\n",
    "    else:\n",
    "        distance_to_goal = distance([-26.0,0.0], float_coords_player_cur)\n",
    "    \n",
    "    \n",
    "    print(\"This is the distance to the goal: \"+ str(distance_to_goal))\n",
    "    \n",
    "    \n",
    "    \n",
    "    \n",
    "    \n",
    "    \n",
    "    \n",
    "        \n",
    "        \n",
    "     \n",
    "           \n",
    "\n",
    "            \n",
    "#nickel\n",
    "   \n",
    "    \n",
    "    \n",
    "    # \n",
    "    # if(row['EventType'] == 'Shot'):\n",
    "    #     test = row['StartPlayerCoordinates4']\n",
    "    #     print(test)\n",
    "    \n",
    "    \n",
    "\n",
    "\n",
    "    "
   ],
   "id": "aad2d7670197b021",
   "outputs": [
    {
     "name": "stdout",
     "output_type": "stream",
     "text": [
      "This is the mean distance of all opponents players to the primary player: 13.141888235827254\n",
      "Period                                1\n",
      "MatchClock                            1\n",
      "Timestamp                 1708857105420\n",
      "EventType                          Pass\n",
      "TeamStrengthType           FullStrength\n",
      "                              ...      \n",
      "StartPlayerDirection12      -0.18,0.984\n",
      "EventStartX                        -6.0\n",
      "EventStartY                         4.7\n",
      "EventEndX                         -11.4\n",
      "EventEndY                          -4.1\n",
      "Name: 3, Length: 118, dtype: object\n",
      "This is the distance to the goal: 24.689471440271863\n",
      "This is the mean distance of all opponents players to the primary player: 11.020423200385382\n",
      "Period                                1\n",
      "MatchClock                            6\n",
      "Timestamp                 1708857110740\n",
      "EventType                          Pass\n",
      "TeamStrengthType           FullStrength\n",
      "                              ...      \n",
      "StartPlayerDirection12     -0.456,-0.89\n",
      "EventStartX                        -1.6\n",
      "EventStartY                        -3.8\n",
      "EventEndX                           5.1\n",
      "EventEndY                           9.6\n",
      "Name: 8, Length: 118, dtype: object\n",
      "This is the distance to the goal: 30.813146544940846\n",
      "This is the mean distance of all opponents players to the primary player: 5.8254843807243395\n",
      "Period                                1\n",
      "MatchClock                           10\n",
      "Timestamp                 1708857114200\n",
      "EventType                          Shot\n",
      "TeamStrengthType           FullStrength\n",
      "                              ...      \n",
      "StartPlayerDirection12      0.766,0.643\n",
      "EventStartX                        19.8\n",
      "EventStartY                         9.2\n",
      "EventEndX                           NaN\n",
      "EventEndY                           NaN\n",
      "Name: 12, Length: 118, dtype: object\n",
      "This is the distance to the goal: 8.811923740024081\n",
      "This is the mean distance of all opponents players to the primary player: 6.449373244273242\n",
      "Period                                1\n",
      "MatchClock                           12\n",
      "Timestamp                 1708857116760\n",
      "EventType                          Pass\n",
      "TeamStrengthType           FullStrength\n",
      "                              ...      \n",
      "StartPlayerDirection12     -0.53,-0.848\n",
      "EventStartX                        29.0\n",
      "EventStartY                        10.2\n",
      "EventEndX                          11.9\n",
      "EventEndY                          14.6\n",
      "Name: 16, Length: 118, dtype: object\n",
      "This is the distance to the goal: 4.8600411520891456\n",
      "This is the mean distance of all opponents players to the primary player: 14.982786728898946\n",
      "Period                                1\n",
      "MatchClock                           15\n",
      "Timestamp                 1708857119440\n",
      "EventType                          Pass\n",
      "TeamStrengthType           FullStrength\n",
      "                              ...      \n",
      "StartPlayerDirection12    -0.906,-0.424\n",
      "EventStartX                        10.8\n",
      "EventStartY                        13.6\n",
      "EventEndX                          19.0\n",
      "EventEndY                          13.7\n",
      "Name: 20, Length: 118, dtype: object\n",
      "This is the distance to the goal: 5.693856338194704\n"
     ]
    }
   ],
   "execution_count": 19
  }
 ],
 "metadata": {
  "kernelspec": {
   "display_name": "Python 3",
   "language": "python",
   "name": "python3"
  },
  "language_info": {
   "codemirror_mode": {
    "name": "ipython",
    "version": 2
   },
   "file_extension": ".py",
   "mimetype": "text/x-python",
   "name": "python",
   "nbconvert_exporter": "python",
   "pygments_lexer": "ipython2",
   "version": "2.7.6"
  }
 },
 "nbformat": 4,
 "nbformat_minor": 5
}
